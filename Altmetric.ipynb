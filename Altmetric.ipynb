{
  "nbformat": 4,
  "nbformat_minor": 5,
  "metadata": {
    "kernelspec": {
      "display_name": "Python 3",
      "language": "python",
      "name": "python3"
    },
    "language_info": {
      "codemirror_mode": {
        "name": "ipython",
        "version": 3
      },
      "file_extension": ".py",
      "mimetype": "text/x-python",
      "name": "python",
      "nbconvert_exporter": "python",
      "pygments_lexer": "ipython3",
      "version": "3.9.5"
    },
    "colab": {
      "name": "Altmetric.ipynb",
      "provenance": [],
      "collapsed_sections": [],
      "include_colab_link": true
    }
  },
  "cells": [
    {
      "cell_type": "markdown",
      "metadata": {
        "id": "view-in-github",
        "colab_type": "text"
      },
      "source": [
        "<a href=\"https://colab.research.google.com/github/asjolaviral/altmetric/blob/main/Altmetric.ipynb\" target=\"_parent\"><img src=\"https://colab.research.google.com/assets/colab-badge.svg\" alt=\"Open In Colab\"/></a>"
      ]
    },
    {
      "cell_type": "code",
      "metadata": {
        "id": "TK_oPafbIUsU"
      },
      "source": [
        "!pip install selenium # install selenium package\n",
        "!pip install XlsxWriter # install XlsxWriter to write excel file\n",
        "!apt-get update # to update ubuntu to correctly run apt install\n",
        "!apt install chromium-chromedriver # install chromedriver\n",
        "!cp /usr/lib/chromium-browser/chromedriver /usr/bin \n",
        "import sys\n",
        "sys.path.insert(0,'/usr/lib/chromium-browser/chromedriver')\n",
        "from selenium import webdriver\n",
        "chrome_options = webdriver.ChromeOptions()\n",
        "chrome_options.add_argument('--headless')\n",
        "chrome_options.add_argument('--no-sandbox')\n",
        "chrome_options.add_argument('--disable-dev-shm-usage')\n",
        "import pandas as pd\n",
        "from selenium import webdriver\n",
        "from selenium.webdriver.common.keys import Keys\n",
        "from selenium.webdriver.common.by import By\n",
        "import time\n",
        "import random\n",
        "import re\n",
        "rList = [6,7,8,9,10,11,12,13,14,15,16,17,18,19] # defining seconds for sleep time"
      ],
      "id": "TK_oPafbIUsU",
      "execution_count": null,
      "outputs": []
    },
    {
      "cell_type": "code",
      "metadata": {
        "id": "aMhhacZYc1Cz"
      },
      "source": [
        "# Upload Excel file\n",
        "from google.colab import files\n",
        "uploaded = files.upload()\n",
        "for fn in uploaded.keys():\n",
        "  print('User uploaded file \"{name}\" with length {length} bytes'.format(\n",
        "      name=fn, length=len(uploaded[fn])))"
      ],
      "id": "aMhhacZYc1Cz",
      "execution_count": null,
      "outputs": []
    },
    {
      "cell_type": "code",
      "metadata": {
        "id": "ca9e0ab8-42df-4c77-b8ef-7c4f10c2c53b"
      },
      "source": [
        "urlList = pd.read_excel(\"Altmetric.xlsx\")\n",
        "# driver = webdriver.Chrome('chromedriver',chrome_options=chrome_options)\n",
        "driver = webdriver.Chrome('chromedriver',options=chrome_options)\n",
        "data = []\n",
        "geoData = []\n",
        "demoData = []"
      ],
      "id": "ca9e0ab8-42df-4c77-b8ef-7c4f10c2c53b",
      "execution_count": null,
      "outputs": []
    },
    {
      "cell_type": "code",
      "metadata": {
        "id": "TFcQjMQyJjqA"
      },
      "source": [
        "# Function to get Readers\n",
        "def eleReaders(x):\n",
        "    eleReaders = len(driver.find_elements_by_xpath(\"/html/body/div[3]/div[1]/div[5]/dl/dt\"))\n",
        "    for r in range(1,eleReaders+1):\n",
        "        itemsNo = driver.find_elements_by_xpath(\"/html/body/div[3]/div[1]/div[5]/dl/dd[\"+str(r)+\"]\")\n",
        "        for i in itemsNo:\n",
        "            element = i.text\n",
        "            score = element.split(\" \", 1)\n",
        "            scoreDetails = {'Page URL': pageURL,\n",
        "                            'Score': score[0],\n",
        "                           'Parameter': score[1]}\n",
        "            data.append(scoreDetails)\n",
        "            \n",
        "# Citations\n",
        "def eleCitations(x):\n",
        "    eleCitations = len(driver.find_elements_by_xpath(\"/html/body/div[3]/div[1]/div[4]/dl\"))\n",
        "    \n",
        "    for c in range(1,eleCitations+1):\n",
        "        items = driver.find_elements_by_xpath(\"/html/body/div[3]/div[1]/div[4]/dl/dd[\"+str(eleCitations)+\"]/a\")\n",
        "        for i in items:\n",
        "            element = i.text\n",
        "            score = element.split(\" \", 1)\n",
        "            scoreDetails = {'Page URL': pageURL,\n",
        "                            'Score': score[0],\n",
        "                           'Parameter': score[1]}\n",
        "            data.append(scoreDetails)\n",
        "            \n",
        "# Function to get Altmetric Score\n",
        "def altmetricScore(x):\n",
        "    content = driver.find_element_by_css_selector(\"body > div.content-wrapper > div.score-panel > div.altmetric-badge-wrapper\")\n",
        "    aScore = content.get_attribute('innerHTML')\n",
        "    aScore = re.search('score=(.+?)&amp', aScore).group(1)\n",
        "    scoreDetails = {'Page URL': pageURL,\n",
        "                    'Score': aScore,\n",
        "                    'Parameter': 'Altmetric Score'}\n",
        "    data.append(scoreDetails)\n",
        "    \n",
        "# Mentioned by\n",
        "def eleMention(x):\n",
        "    eleMention = len(driver.find_elements_by_xpath(\"/html/body/div[3]/div[1]/div[3]/dl\"))\n",
        "\n",
        "    for e in range(1,eleMention+1):\n",
        "        dd = len(driver.find_elements_by_xpath(\"/html/body/div[3]/div[1]/div[3]/dl[\"+str(e)+\"]/dd\"))\n",
        "        for d in range(1,dd+1):\n",
        "            items = driver.find_elements_by_xpath(\"/html/body/div[3]/div[1]/div[3]/dl[\"+str(e)+\"]/dd[\"+str(d)+\"]/a\")\n",
        "            for i in items:\n",
        "                element = i.text\n",
        "                score = element.split(\" \", 1)\n",
        "                scoreDetails = {'Page URL': pageURL,\n",
        "                                'Score': score[0],\n",
        "                                'Parameter': score[1]}\n",
        "                data.append(scoreDetails)\n",
        "                \n",
        "# Function to retrieve Geographical Area and rest details\n",
        "def countryDetails(x):\n",
        "    row = len(driver.find_elements_by_xpath(\"//*[@id='main-content']/div/div/div[3]/div[2]/div/div[2]/table/tbody/tr\"))\n",
        "    columns = len(driver.find_elements_by_xpath(\"//*[@id='main-content']/div/div/div[3]/div[2]/div/div[2]/table/tbody/tr[2]/td\"))\n",
        "    for e in range(2,row+1):\n",
        "        countryName = driver.find_elements_by_xpath(\"//*[@id='main-content']/div/div/div[3]/div[2]/div/div[2]/table/tbody/tr[\"+str(e)+\"]/td[1]\")\n",
        "        twittCount = driver.find_elements_by_xpath(\"//*[@id='main-content']/div/div/div[3]/div[2]/div/div[2]/table/tbody/tr[\"+str(e)+\"]/td[2]\")\n",
        "        twittPercentage = driver.find_elements_by_xpath(\"//*[@id='main-content']/div/div/div[3]/div[2]/div/div[2]/table/tbody/tr[\"+str(e)+\"]/td[3]\")\n",
        "        for c in countryName:\n",
        "            cName = c.text\n",
        "        for tc in twittCount:\n",
        "            tCount = tc.text\n",
        "        for tp in twittPercentage:\n",
        "            tPercentage = tp.text\n",
        "        geographical = {'Page URL': pageURL,\n",
        "                        'Country Name': cName,\n",
        "                        'Twitter Count': tCount,\n",
        "                       'Twitter Percentage': tPercentage}\n",
        "        geoData.append(geographical)\n",
        "        \n",
        "# Function to retrieve Demographic breakdown\n",
        "def demographicDetails(x):\n",
        "    row = len(driver.find_elements_by_xpath(\"//*[@id='main-content']/div/div/div[3]/div[2]/div/div[3]/table/tbody/tr\"))\n",
        "    columns = len(driver.find_elements_by_xpath(\"//*[@id='main-content']/div/div/div[3]/div[2]/div/div[3]/table/tbody/tr[2]/td\"))\n",
        "    \n",
        "    for e in range(2,row+1):\n",
        "        twitType = driver.find_elements_by_xpath(\"//*[@id='main-content']/div/div/div[3]/div[2]/div/div[3]/table/tbody/tr[\"+str(e)+\"]/td[1]\")\n",
        "        twittTypeCount = driver.find_elements_by_xpath(\"//*[@id='main-content']/div/div/div[3]/div[2]/div/div[3]/table/tbody/tr[\"+str(e)+\"]/td[2]\")\n",
        "        twittTypePercentage = driver.find_elements_by_xpath(\"//*[@id='main-content']/div/div/div[3]/div[2]/div/div[3]/table/tbody/tr[\"+str(e)+\"]/td[3]\")\n",
        "        \n",
        "        for t in twitType:\n",
        "            tType = t.text\n",
        "        for ttc in twittTypeCount:\n",
        "            ttCount = ttc.text\n",
        "        for ttp in twittTypePercentage:\n",
        "            ttPercentage = ttp.text\n",
        "        demoographical = {'Page URL': pageURL,\n",
        "                          'Twit Type': tType,\n",
        "                          'Twit Type Count': ttCount,\n",
        "                          'Twit Type Percentage': ttPercentage}\n",
        "        demoData.append(demoographical)"
      ],
      "id": "TFcQjMQyJjqA",
      "execution_count": null,
      "outputs": []
    },
    {
      "cell_type": "code",
      "metadata": {
        "id": "dc837a81-ba5d-4080-8c15-120cf54b52f0"
      },
      "source": [
        "# Loop for all the URLs given in excel file\n",
        "for index, row in urlList.iterrows():\n",
        "    time.sleep(random.choice(rList))\n",
        "    pageURL = row[1]\n",
        "    print(pageURL)\n",
        "    driver.get(pageURL)\n",
        "    title = driver.find_element_by_xpath('/html/body/div[2]/h1').text\n",
        "    if title != \"We haven’t seen any mentions of this research output yet!\":\n",
        "#         print('Working.... :)')\n",
        "        eleReaders(pageURL)\n",
        "        eleCitations(pageURL)\n",
        "        eleMention(pageURL)\n",
        "        altmetricScore(pageURL)\n",
        "        countryDetails(pageURL)\n",
        "        demographicDetails(pageURL)\n",
        "    else:\n",
        "        print('Altmetric score is not available.... :(')"
      ],
      "id": "dc837a81-ba5d-4080-8c15-120cf54b52f0",
      "execution_count": null,
      "outputs": []
    },
    {
      "cell_type": "code",
      "metadata": {
        "id": "e686378f-edd0-4b59-a3e0-fba6e08d406b"
      },
      "source": [
        "driver.quit()"
      ],
      "id": "e686378f-edd0-4b59-a3e0-fba6e08d406b",
      "execution_count": null,
      "outputs": []
    },
    {
      "cell_type": "code",
      "metadata": {
        "id": "d261c06c-02ba-499a-ade2-6373fdc75ce2"
      },
      "source": [
        "# Creating blank Dataframe and populating it with  new data\n",
        "altmetricData = pd.DataFrame()\n",
        "altmetricGeoData = pd.DataFrame()\n",
        "altmetricDemoData = pd.DataFrame()\n",
        "altmetricData = pd.DataFrame(data)\n",
        "altmetricGeoData = pd.DataFrame(geoData)\n",
        "altmetricDemoData = pd.DataFrame(demoData)"
      ],
      "id": "d261c06c-02ba-499a-ade2-6373fdc75ce2",
      "execution_count": null,
      "outputs": []
    },
    {
      "cell_type": "code",
      "metadata": {
        "id": "f5a62722-323b-4946-9ae9-dedfeb131928"
      },
      "source": [
        "# Writing excel file from dataframe\n",
        "altmetricData.to_excel('altmetricData.xlsx', engine='xlsxwriter')\n",
        "altmetricGeoData.to_excel('altmetricGeoData.xlsx', engine='xlsxwriter')\n",
        "altmetricDemoData.to_excel('altmetricDemoData.xlsx', engine='xlsxwriter')"
      ],
      "id": "f5a62722-323b-4946-9ae9-dedfeb131928",
      "execution_count": null,
      "outputs": []
    },
    {
      "cell_type": "code",
      "metadata": {
        "id": "xaJK5HqcdwU_"
      },
      "source": [
        "files.download('altmetricData.xlsx')\n",
        "files.download('altmetricDemoData.xlsx')\n",
        "files.download('altmetricGeoData.xlsx')"
      ],
      "id": "xaJK5HqcdwU_",
      "execution_count": null,
      "outputs": []
    }
  ]
}